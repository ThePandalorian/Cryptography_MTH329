{
 "cells": [
  {
   "cell_type": "markdown",
   "metadata": {},
   "source": [
    "# Decrypting a Vignere Cipher\n",
    "\n",
    "Below is code that will transcribe any ciphertext which was encrypted using a Vignere Cipher into plaintext. <br>\n",
    "<br>\n",
    "A Vignere Cipher is a variation of a shift cipher. The key for the encryption is a vector of numbers of the form $(s_1,s_2,...,s_n)$. Both the key and the length of the key $n$ is unknown for unintended receivers. Encryption is achieved by shifting the first letter of the ciphertext by an amount $s_1$, shifting the second letter by an amount $s_2$, and so on. Once we reach the $(n+1)^{\\textrm{th}}$ entry of the ciphertext, we restart from the first element of the key ($s_1$). <br>\n",
    "<br>\n",
    "A ciphertext attack of the system relies on the fact that not all letters of the english alphabet occur with equal frequency in written text. Refer to the second chapter of the textbook 'Introduction to Cryptography with Coding Theory' by Trappe and Washington for an explanation of why the approach used in the code below would work."
   ]
  },
  {
   "cell_type": "code",
   "execution_count": 1,
   "metadata": {},
   "outputs": [],
   "source": [
    "import numpy as np\n",
    "\n",
    "\n",
    "alphabet = list('abcdefghijklmnopqrstuvwxyz')\n",
    "\n",
    "#Frequency of occurrence of each letter of the alphabet, obtained from Trappe and Washington\n",
    "ori_freq = [0.082,0.015,0.028,0.043,0.127,0.022,0.020,0.061,0.070,0.002,0.008,0.040,0.024,0.067,0.075,0.019,0.001,0.060,0.063,0.091,0.028,0.01,0.023,0.001,0.02,0.001]"
   ]
  },
  {
   "cell_type": "markdown",
   "metadata": {},
   "source": [
    "## Obtaining the key length\n",
    "\n"
   ]
  },
  {
   "cell_type": "code",
   "execution_count": 3,
   "metadata": {},
   "outputs": [],
   "source": [
    "def key_length(ciphertext,max_len):\n",
    "    ciphertext = list(ciphertext)\n",
    "    coincidences = np.zeros(max_len)\n",
    "    shift_len = 1\n",
    "    while shift_len < max_len:\n",
    "        shifted_text = np.roll(ciphertext,shift_len)\n",
    "        for ori,new in zip(ciphertext,shifted_text):\n",
    "            if ori == new:\n",
    "                coincidences[shift_len] += 1\n",
    "        shift_len += 1\n",
    "    \n",
    "    #Get 5 largest coincidences\n",
    "    most_coincidences = sorted(np.unique(np.array(coincidences)),reverse=True)[0:5]\n",
    "    \n",
    "    out_key_lens = []\n",
    "    out_coincidences = []\n",
    "    for i in range(0,5):\n",
    "        possible_key_lens = np.where(np.array(coincidences)==most_coincidences[i])[0]\n",
    "        for possible_key_len in possible_key_lens:\n",
    "            out_key_lens.append(possible_key_len)\n",
    "            out_coincidences.append(coincidences[possible_key_len])\n",
    "\n",
    "    return out_key_lens, out_coincidences"
   ]
  },
  {
   "cell_type": "markdown",
   "metadata": {},
   "source": [
    "## Obtaining the key once the key length is known"
   ]
  },
  {
   "cell_type": "code",
   "execution_count": 4,
   "metadata": {},
   "outputs": [],
   "source": [
    "def dot_product(ciphertext,key_len,exp_freq,start):\n",
    "    obs_freq = []\n",
    "    new_list = []\n",
    "    ciphertext = list(ciphertext)\n",
    "    for index in range(start,len(ciphertext),key_len):\n",
    "            new_list.append(ciphertext[index])\n",
    "    \n",
    "    for i in range(0,26):\n",
    "        obs_freq.append(new_list.count(alphabet[i])/len(new_list))\n",
    "    \n",
    "    dot = 0\n",
    "    for i in range(0,26):\n",
    "        dot += obs_freq[i]*exp_freq[i]\n",
    "    \n",
    "    return dot"
   ]
  },
  {
   "cell_type": "code",
   "execution_count": 5,
   "metadata": {},
   "outputs": [],
   "source": [
    "def get_key_vals(ciphertext,key_len,start):\n",
    "    \n",
    "    dots = []\n",
    "    for index in range(1,26):\n",
    "        exp_freq = list(np.roll(ori_freq,index))\n",
    "        dots.append(dot_product(ciphertext,key_len,exp_freq,start))\n",
    "    \n",
    "    #print(dots)\n",
    "    return (dots.index(max(dots)))"
   ]
  },
  {
   "cell_type": "code",
   "execution_count": 49,
   "metadata": {},
   "outputs": [],
   "source": [
    "def get_key(ciphertext,key_len):\n",
    "    \n",
    "    key = []\n",
    "    for i in range(0,key_len):\n",
    "        key.append(get_key_vals(ciphertext,key_len,i))\n",
    "    \n",
    "    alphabet_key = []\n",
    "    for index in key:\n",
    "        alphabet_key.append(alphabet[index+1])\n",
    "    \n",
    "    return key, alphabet_key"
   ]
  },
  {
   "cell_type": "markdown",
   "metadata": {},
   "source": [
    "## Decrypting a given ciphertext\n",
    "\n",
    "We can now combine all the above functions into a single function that will convert a ciphertext encrypted using a Vignere cipher into plaintext."
   ]
  },
  {
   "cell_type": "code",
   "execution_count": 2,
   "metadata": {},
   "outputs": [],
   "source": [
    "def shift(letter,amount):\n",
    "    out_list = []\n",
    "    ori_index = alphabet.index(letter)\n",
    "    new_index = (ori_index - amount)%26\n",
    "\n",
    "    return alphabet[new_index-1]"
   ]
  },
  {
   "cell_type": "code",
   "execution_count": 60,
   "metadata": {},
   "outputs": [],
   "source": [
    "def decrypt_vignere(ciphertext,max_key_len):\n",
    "    \n",
    "    key_len = key_length(ciphertext,max_key_len)[0][0]\n",
    "    \n",
    "    key = get_key(ciphertext,key_len)[0]\n",
    "    \n",
    "    ciphertext = list(ciphertext)\n",
    "    \n",
    "    plaintext = []\n",
    "    for i in range(0,len(ciphertext)):\n",
    "        plaintext.append(shift(ciphertext[i],key[i % key_len]))\n",
    "    \n",
    "    return(''.join(plaintext))"
   ]
  },
  {
   "cell_type": "markdown",
   "metadata": {},
   "source": [
    "## Examples\n",
    "\n",
    "### Example 1\n",
    "\n",
    "Problem 7 from section 2.14 of Introduction to Cryptography with Coding Theory by Trappe and Washington"
   ]
  },
  {
   "cell_type": "code",
   "execution_count": 51,
   "metadata": {},
   "outputs": [],
   "source": [
    "ciphertext1 = 'hdsfgvmkoowafweetcmfthskucaqbilgjofmaqlgspvatvxqbiryscpcfrmvswrvnqlszdmgaoqsakmlupsqforvtwvdfcjzvgsoaoqsacjkbrsevbelvbksarlscdcaarmnvrysywxqgvellcyluwwveoafgclazowafojdlhssfiksepsoywxafowlbfcsocylngqsyzxgjbmlvgrggokgfgmhlmejabsjvgmlnrvqzcrggcrghgeupcyfgtydycjkhqluhgxgzovqswpdvbwsffsenbxapasgazmyuhgsfhmftayjxmwznrsofrsoaopgauaaarmftqsmahvqecev'"
   ]
  },
  {
   "cell_type": "code",
   "execution_count": 53,
   "metadata": {},
   "outputs": [
    {
     "data": {
      "text/plain": [
       "([4, 3, 2, 5, 1, 0], [25.0, 15.0, 14.0, 14.0, 11.0, 0.0])"
      ]
     },
     "execution_count": 53,
     "metadata": {},
     "output_type": "execute_result"
    }
   ],
   "source": [
    "key_length(ciphertext1,6)"
   ]
  },
  {
   "cell_type": "markdown",
   "metadata": {},
   "source": [
    "Thus, it appears that the most likely key length is 4. Using this, we can try to figure out what the key is."
   ]
  },
  {
   "cell_type": "code",
   "execution_count": 54,
   "metadata": {},
   "outputs": [
    {
     "data": {
      "text/plain": [
       "([12, 13, 3, 17], ['n', 'o', 'e', 's'])"
      ]
     },
     "execution_count": 54,
     "metadata": {},
     "output_type": "execute_result"
    }
   ],
   "source": [
    "get_key(ciphertext1,4)"
   ]
  },
  {
   "cell_type": "code",
   "execution_count": 61,
   "metadata": {},
   "outputs": [
    {
     "data": {
      "text/plain": [
       "'uponthisbasisiamgoingtoshowyouhowabunchofbrightyoungfolksdidfindachampionamanwithboysandgirlsofhisownamanofsodominatingandhappyindividualitythatyouthisdrawntohimasisaflytoasugarbowlitisastoryaboutasmalltownitisnotagossipyyarnnorisitadrymonotonousaccountfullofsuchcustomaryfillinsasromanticmoonlightcastingmurkyshadowsdownalongwindingcountryroad'"
      ]
     },
     "execution_count": 61,
     "metadata": {},
     "output_type": "execute_result"
    }
   ],
   "source": [
    "decrypt_vignere(ciphertext1,6)"
   ]
  },
  {
   "cell_type": "markdown",
   "metadata": {},
   "source": [
    "### Example 2\n",
    "\n",
    "Problem 8 from section 2.14 of Introduction to Cryptography with Coding Theory by Trappe and Washington"
   ]
  },
  {
   "cell_type": "code",
   "execution_count": 56,
   "metadata": {},
   "outputs": [],
   "source": [
    "ciphertext2 = 'ocwyikoooniwugpmxwktzdwgtssayjzwyemdlbnqaaavsuwdvbrflauplooubfgqhgcscmgzlatoedcsdeidpbhtmuovpiekifpimfnoamvlpqfxejsmxmpgkccaykwfzpyuavtelwhrhmwkbbvgtguvtefjlodfefkvpxsgrsorvgtajbsauhzrzalkwuowhgedefnswmrciwcpaaavogpdnfpktdbalsisurlnpsjyeatcuceesohhdarkhwotikbroqrdfmzghgucebvgwcdqxgpbgqwlpbdaylooqdmuhbdqgmyweuik'"
   ]
  },
  {
   "cell_type": "code",
   "execution_count": 57,
   "metadata": {},
   "outputs": [
    {
     "data": {
      "text/plain": [
       "([6, 12, 18, 5, 15, 20], [25.0, 19.0, 16.0, 15.0, 15.0, 14.0])"
      ]
     },
     "execution_count": 57,
     "metadata": {},
     "output_type": "execute_result"
    }
   ],
   "source": [
    "key_length(ciphertext2,26)"
   ]
  },
  {
   "cell_type": "code",
   "execution_count": 58,
   "metadata": {},
   "outputs": [
    {
     "data": {
      "text/plain": [
       "([6, 13, 10, 11, 3, 17], ['h', 'o', 'l', 'm', 'e', 's'])"
      ]
     },
     "execution_count": 58,
     "metadata": {},
     "output_type": "execute_result"
    }
   ],
   "source": [
    "get_key(ciphertext2,6)"
   ]
  },
  {
   "cell_type": "code",
   "execution_count": 59,
   "metadata": {},
   "outputs": [
    {
     "data": {
      "text/plain": [
       "'holmeshadbeenseatedforsomehoursinsilencewithhislongthinbackcurvedoverachemicalvesselinwhichhewasbrewingaparticularlymalodorousproducthisheadwassunkuponhisbreastandhelookedfrommypointofviewlikeastrangelankbirdwithdullgreyplumageandablacktopknotsowatsonsaidhesuddenlyyoudonotproposetoinvestinsouthafricansecurities'"
      ]
     },
     "execution_count": 59,
     "metadata": {},
     "output_type": "execute_result"
    }
   ],
   "source": [
    "decrypt_vignere(ciphertext2,12)"
   ]
  }
 ],
 "metadata": {
  "kernelspec": {
   "display_name": "Python 3",
   "language": "python",
   "name": "python3"
  },
  "language_info": {
   "codemirror_mode": {
    "name": "ipython",
    "version": 3
   },
   "file_extension": ".py",
   "mimetype": "text/x-python",
   "name": "python",
   "nbconvert_exporter": "python",
   "pygments_lexer": "ipython3",
   "version": "3.8.5"
  }
 },
 "nbformat": 4,
 "nbformat_minor": 4
}
